{
 "cells": [
  {
   "cell_type": "code",
   "execution_count": 24,
   "metadata": {},
   "outputs": [],
   "source": [
    "import pandas as pd\n",
    "import numpy as np\n",
    "import matplotlib.pyplot as plt\n",
    "import seaborn as sea\n",
    "from sklearn.model_selection import train_test_split\n",
    "from sklearn.linear_model import LogisticRegression\n",
    "from sklearn.preprocessing import (LabelEncoder, StandardScaler)\n",
    "from sklearn.metrics import(confusion_matrix,ConfusionMatrixDisplay, classification_report)\n",
    "from imblearn.over_sampling import SMOTE\n",
    "from imblearn.under_sampling import NearMiss\n",
    "\n"
   ]
  },
  {
   "cell_type": "code",
   "execution_count": 25,
   "metadata": {},
   "outputs": [],
   "source": [
    "telco_csv = pd.read_csv(\"./data_telco_customer_churn.csv\", sep=',')"
   ]
  },
  {
   "cell_type": "code",
   "execution_count": 26,
   "metadata": {},
   "outputs": [],
   "source": [
    "telco_df = pd.DataFrame(telco_csv)"
   ]
  },
  {
   "cell_type": "code",
   "execution_count": 27,
   "metadata": {},
   "outputs": [],
   "source": [
    "encoder = LabelEncoder()\n",
    "\n",
    "dependent_encoded =encoder.fit_transform(telco_df['Dependents'])\n",
    "onlineSec_encoded =encoder.fit_transform(telco_df['OnlineSecurity'])\n",
    "onlineBack_encoded =encoder.fit_transform(telco_df['OnlineBackup'])\n",
    "internetServ_encoded = encoder.fit_transform(telco_df['InternetService'])\n",
    "deviceProc_encoded = encoder.fit_transform(telco_df['DeviceProtection'])\n",
    "tech_encoded = encoder.fit_transform(telco_df['TechSupport'])\n",
    "contract_encoded = encoder.fit_transform(telco_df['Contract'])\n",
    "paperless_encoded = encoder.fit_transform(telco_df['PaperlessBilling'])\n",
    "churn_encoded = encoder.fit_transform(telco_df['Churn'])"
   ]
  },
  {
   "cell_type": "code",
   "execution_count": 28,
   "metadata": {},
   "outputs": [],
   "source": [
    "telco_df['Dependents'] = dependent_encoded\n",
    "telco_df['Contract'] = contract_encoded\n",
    "telco_df['DeviceProtection'] = deviceProc_encoded\n",
    "telco_df['InternetService'] = internetServ_encoded\n",
    "telco_df['OnlineBackup'] = onlineBack_encoded\n",
    "telco_df['OnlineSecurity'] = onlineSec_encoded\n",
    "telco_df['PaperlessBilling'] = paperless_encoded\n",
    "telco_df['TechSupport'] = tech_encoded\n",
    "telco_df['Churn'] = churn_encoded\n"
   ]
  },
  {
   "cell_type": "code",
   "execution_count": 29,
   "metadata": {},
   "outputs": [],
   "source": [
    "scaler = StandardScaler()\n",
    "tenure_scaled =scaler.fit_transform(pd.DataFrame(telco_df['tenure']))\n",
    "monthly_scaled =scaler.fit_transform(pd.DataFrame(telco_df['MonthlyCharges']))\n",
    "\n",
    "\n",
    "telco_df['tenure'] = tenure_scaled\n",
    "telco_df['MonthlyCharges'] = monthly_scaled"
   ]
  },
  {
   "cell_type": "code",
   "execution_count": 30,
   "metadata": {},
   "outputs": [],
   "source": [
    "telco_data = telco_df[['Dependents', 'tenure', 'OnlineSecurity', 'OnlineBackup', 'InternetService',\t'DeviceProtection',\t'TechSupport', 'Contract', 'PaperlessBilling', 'MonthlyCharges']]\n",
    "telco_target = telco_df[['Churn']]"
   ]
  },
  {
   "cell_type": "code",
   "execution_count": 31,
   "metadata": {},
   "outputs": [
    {
     "name": "stdout",
     "output_type": "stream",
     "text": [
      "3944\n"
     ]
    }
   ],
   "source": [
    "X_train, X_test, Y_train, Y_test = train_test_split(telco_data, telco_target, train_size=0.8, test_size=0.2, random_state=39)\n",
    "\n",
    "print(Y_train.shape[0])"
   ]
  },
  {
   "cell_type": "code",
   "execution_count": 32,
   "metadata": {},
   "outputs": [],
   "source": [
    "#Logistic Regression\n",
    "Y_train_reshaped = np.reshape(Y_train, Y_train.shape[0])\n",
    "lr = LogisticRegression()\n",
    "\n",
    "lr_model = lr.fit(X_train, Y_train_reshaped)\n",
    "\n",
    "Y_pred = lr.predict(X_test)"
   ]
  },
  {
   "cell_type": "code",
   "execution_count": 33,
   "metadata": {},
   "outputs": [
    {
     "name": "stdout",
     "output_type": "stream",
     "text": [
      "              precision    recall  f1-score   support\n",
      "\n",
      "           0       0.84      0.88      0.86       732\n",
      "           1       0.61      0.53      0.57       254\n",
      "\n",
      "    accuracy                           0.79       986\n",
      "   macro avg       0.73      0.71      0.71       986\n",
      "weighted avg       0.78      0.79      0.79       986\n",
      "\n"
     ]
    }
   ],
   "source": [
    "print(classification_report(Y_test, Y_pred))"
   ]
  },
  {
   "cell_type": "code",
   "execution_count": 34,
   "metadata": {},
   "outputs": [
    {
     "data": {
      "text/plain": [
       "<sklearn.metrics._plot.confusion_matrix.ConfusionMatrixDisplay at 0x2972bef5790>"
      ]
     },
     "execution_count": 34,
     "metadata": {},
     "output_type": "execute_result"
    },
    {
     "data": {
      "image/png": "[encoded data removed]",
      "text/plain": [
       "<Figure size 640x480 with 2 Axes>"
      ]
     },
     "metadata": {},
     "output_type": "display_data"
    }
   ],
   "source": [
    "confuse_mat = confusion_matrix(Y_test, Y_pred)\n",
    "confuse_matDisp = ConfusionMatrixDisplay(confuse_mat)\n",
    "confuse_matDisp.plot()"
   ]
  },
  {
   "cell_type": "markdown",
   "metadata": {},
   "source": [
    "Over-Under Sampling<br>\n",
    "No need to run the below codes as they do not yield to the better F1-Score in the current parameter setting"
   ]
  },
  {
   "cell_type": "code",
   "execution_count": 11,
   "metadata": {},
   "outputs": [],
   "source": [
    "smote = SMOTE(sampling_strategy=0.7, random_state=39)\n",
    "X_train_oversampled, Y_train_oversampled = smote.fit_resample(X_train, Y_train)"
   ]
  },
  {
   "cell_type": "code",
   "execution_count": 12,
   "metadata": {},
   "outputs": [],
   "source": [
    "Y_train_oversampled_reshaped = np.reshape(Y_train_oversampled, Y_train_oversampled.shape[0])\n",
    "\n",
    "lr_model_over_boosted = LogisticRegression(class_weight='balanced', random_state=39)\n",
    "\n",
    "\n",
    "over_boosted_model = lr_model_over_boosted.fit(X_train_oversampled, Y_train_oversampled_reshaped)\n",
    "\n",
    "Y_pred_over_boosted = over_boosted_model.predict(X_test)"
   ]
  },
  {
   "cell_type": "code",
   "execution_count": null,
   "metadata": {},
   "outputs": [],
   "source": [
    "print(classification_report(Y_test, Y_pred_over_boosted))"
   ]
  },
  {
   "cell_type": "code",
   "execution_count": 14,
   "metadata": {},
   "outputs": [],
   "source": [
    "undersample = NearMiss(version=1)\n",
    "X_train_undersampled, Y_train_undersampled = undersample.fit_resample(X_train, Y_train)"
   ]
  },
  {
   "cell_type": "code",
   "execution_count": 15,
   "metadata": {},
   "outputs": [],
   "source": [
    "lr_under_boosted = LogisticRegression(class_weight='balanced', random_state=39)\n",
    "Y_train_undersampled_reshaped = np.reshape(Y_train_undersampled, Y_train_undersampled.shape[0])\n",
    "\n",
    "under_boosted_model = lr_under_boosted.fit(X_train_undersampled, Y_train_undersampled_reshaped)\n",
    "\n",
    "Y_pred_under_boosted = under_boosted_model.predict(X_test)"
   ]
  },
  {
   "cell_type": "code",
   "execution_count": null,
   "metadata": {},
   "outputs": [],
   "source": [
    "print(classification_report(Y_test, Y_pred_under_boosted))"
   ]
  },
  {
   "cell_type": "code",
   "execution_count": 17,
   "metadata": {},
   "outputs": [],
   "source": [
    "undersample = NearMiss(version=1)\n",
    "X_train_overundersampled, Y_train_overundersampled = undersample.fit_resample(X_train_oversampled, Y_train_oversampled)"
   ]
  },
  {
   "cell_type": "code",
   "execution_count": 18,
   "metadata": {},
   "outputs": [],
   "source": [
    "lr_overunder_boosted = LogisticRegression(class_weight='balanced', random_state=39)\n",
    "Y_train_overundersampled_reshaped = np.reshape(Y_train_overundersampled, Y_train_overundersampled.shape[0])\n",
    "\n",
    "overunder_boosted_model = lr_overunder_boosted.fit(X_train_overundersampled, Y_train_overundersampled_reshaped)\n",
    "\n",
    "Y_pred_overunder_boosted = overunder_boosted_model.predict(X_test)"
   ]
  },
  {
   "cell_type": "code",
   "execution_count": null,
   "metadata": {},
   "outputs": [],
   "source": [
    "print(classification_report(Y_test, Y_pred_overunder_boosted))"
   ]
  },
  {
   "cell_type": "code",
   "execution_count": 20,
   "metadata": {},
   "outputs": [],
   "source": [
    "undersample = NearMiss(version=1)\n",
    "X_train_undersampled, Y_train_undersampled = undersample.fit_resample(X_train, Y_train)"
   ]
  },
  {
   "cell_type": "code",
   "execution_count": 21,
   "metadata": {},
   "outputs": [],
   "source": [
    "smote = SMOTE(sampling_strategy='minority', random_state=39)\n",
    "X_train_underoversampled, Y_train_underoversampled = smote.fit_resample(X_train_undersampled, Y_train_undersampled)"
   ]
  },
  {
   "cell_type": "code",
   "execution_count": 22,
   "metadata": {},
   "outputs": [],
   "source": [
    "Y_train_underoversampled_reshaped = np.reshape(Y_train_underoversampled, Y_train_underoversampled.shape[0])\n",
    "\n",
    "lr_underover_boosted = LogisticRegression(class_weight='balanced', random_state=39)\n",
    "\n",
    "\n",
    "underover_boosted_model = lr_underover_boosted.fit(X_train_underoversampled, Y_train_underoversampled_reshaped)\n",
    "\n",
    "Y_pred_underover_boosted = underover_boosted_model.predict(X_test)"
   ]
  },
  {
   "cell_type": "code",
   "execution_count": null,
   "metadata": {},
   "outputs": [],
   "source": [
    "print(classification_report(Y_test, Y_pred_underover_boosted))"
   ]
  }
 ],
 "metadata": {
  "kernelspec": {
   "display_name": "Python 3",
   "language": "python",
   "name": "python3"
  },
  "language_info": {
   "codemirror_mode": {
    "name": "ipython",
    "version": 3
   },
   "file_extension": ".py",
   "mimetype": "text/x-python",
   "name": "python",
   "nbconvert_exporter": "python",
   "pygments_lexer": "ipython3",
   "version": "3.11.0"
  }
 },
 "nbformat": 4,
 "nbformat_minor": 2
}
